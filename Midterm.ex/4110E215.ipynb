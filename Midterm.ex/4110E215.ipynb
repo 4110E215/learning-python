{
  "nbformat": 4,
  "nbformat_minor": 0,
  "metadata": {
    "colab": {
      "provenance": []
    },
    "kernelspec": {
      "name": "python3",
      "display_name": "Python 3"
    },
    "language_info": {
      "name": "python"
    }
  },
  "cells": [
    {
      "cell_type": "markdown",
      "source": [
        "### **4110E215** **安伯思**"
      ],
      "metadata": {
        "id": "9z7QMtTK2EOx"
      }
    },
    {
      "cell_type": "markdown",
      "source": [
        "1.What can Python do?\n",
        "\n",
        "(A)Python can be used on a server to create web applications.\n",
        "\n",
        "(B)Python can be used alongside software to create workflows.\n",
        "\n",
        "(C)Python can connect to database systems. It can also read and modify files.\n",
        "\n",
        "(D)Python can be used to handle big data and perform complex mathematics."
      ],
      "metadata": {
        "id": "G0CqAWl42X_a"
      }
    },
    {
      "cell_type": "markdown",
      "source": [
        "-answer: https://www.w3schools.com/python/python_intro.asp\n",
        "\n",
        "\n",
        "Python can be used on a server to create web applications.\n",
        "\n",
        "Python can be used alongside software to create workflows.\n",
        "\n",
        "Python can connect to database systems. It can also read and modify files.\n",
        "\n",
        "Python can be used to handle big data and perform complex mathematics.\n",
        "\n",
        "Python can be used for rapid prototyping, or for production-ready software development."
      ],
      "metadata": {
        "id": "r-KTxK_L2kwm"
      }
    },
    {
      "cell_type": "markdown",
      "source": [
        "2.Python uses __________ to indicate a block of code\n",
        "\n",
        "(A) [] (B) {} (C) () (D) indentation\n",
        "\n"
      ],
      "metadata": {
        "id": "kKkBHaV62pUP"
      }
    },
    {
      "cell_type": "markdown",
      "source": [
        "answer https://www.w3schools.com/python/python_syntax.asp\n",
        "\n",
        "Python uses indentation to indicate a block of code."
      ],
      "metadata": {
        "id": "xnZTRC0o3Iua"
      }
    },
    {
      "cell_type": "markdown",
      "source": [
        "3.Python has commenting capability for the purpose of in-code documentation. Comments start with a __________\n",
        "\n",
        "(A) A (B) # (C) / (D)&\n"
      ],
      "metadata": {
        "id": "tpHHmi2J3N75"
      }
    },
    {
      "cell_type": "markdown",
      "source": [
        "-answer (B) #"
      ],
      "metadata": {
        "id": "IQUzx4d73SH-"
      }
    },
    {
      "cell_type": "markdown",
      "source": [
        "### 4."
      ],
      "metadata": {
        "id": "XqK7lJPK7JTb"
      }
    },
    {
      "cell_type": "code",
      "source": [
        "fruits = [\"apple\", \"banana\", \"cherry\"]\n",
        "x, y, z = fruits\n",
        "print(x)"
      ],
      "metadata": {
        "colab": {
          "base_uri": "https://localhost:8080/"
        },
        "id": "S9LTvBA84Bp6",
        "outputId": "e19a3b98-23f7-4ab1-ea3b-887dafdb7074"
      },
      "execution_count": 1,
      "outputs": [
        {
          "output_type": "stream",
          "name": "stdout",
          "text": [
            "apple\n"
          ]
        }
      ]
    },
    {
      "cell_type": "markdown",
      "source": [
        "### 5."
      ],
      "metadata": {
        "id": "g3j1j8Ca7Q0H"
      }
    },
    {
      "cell_type": "code",
      "source": [
        "students = { 'name' : 'alice' , 'score' : 60 }"
      ],
      "metadata": {
        "id": "o_KPHi-u7bXm"
      },
      "execution_count": 2,
      "outputs": []
    },
    {
      "cell_type": "markdown",
      "source": [
        "### 6."
      ],
      "metadata": {
        "id": "Flp568YB7dD7"
      }
    },
    {
      "cell_type": "code",
      "source": [
        "x = 5\n",
        "y = \"John\"\n",
        "   \n",
        "print(x + y)"
      ],
      "metadata": {
        "id": "7s__UbZ47gRP"
      },
      "execution_count": null,
      "outputs": []
    },
    {
      "cell_type": "markdown",
      "source": [
        "answer: python will give you an error"
      ],
      "metadata": {
        "id": "YsN-UdEB7qbO"
      }
    },
    {
      "cell_type": "markdown",
      "source": [
        "### 7."
      ],
      "metadata": {
        "id": "ooMQsicG7zhy"
      }
    },
    {
      "cell_type": "markdown",
      "source": [
        "(A)13//5 output: 2.6\n",
        "\n",
        "(B) 13/5 output: 2.6\n",
        "\n",
        "(C)13%5 output:3\n",
        "\n",
        "(D)y = int(2.8) output:2"
      ],
      "metadata": {
        "id": "VmJRkAom72bB"
      }
    },
    {
      "cell_type": "markdown",
      "source": [
        "answer:(B) 13/5 output: 2.6"
      ],
      "metadata": {
        "id": "_9p_Wu5A73IQ"
      }
    },
    {
      "cell_type": "markdown",
      "source": [
        "### 8."
      ],
      "metadata": {
        "id": "ZbvMgj7X8Cl1"
      }
    },
    {
      "cell_type": "markdown",
      "source": [
        "What does the following Python program fragment do?"
      ],
      "metadata": {
        "id": "PEdxAl218IqC"
      }
    },
    {
      "cell_type": "code",
      "source": [
        "s=0\n",
        "\n",
        "for i in range (3 , 11) :\n",
        "\n",
        "    s+=i\n",
        "\n",
        "print (s)"
      ],
      "metadata": {
        "colab": {
          "base_uri": "https://localhost:8080/"
        },
        "id": "FG55Waq28E3K",
        "outputId": "5165f57b-4f6a-4cce-da5c-0b63af61a024"
      },
      "execution_count": 3,
      "outputs": [
        {
          "output_type": "stream",
          "name": "stdout",
          "text": [
            "52\n"
          ]
        }
      ]
    },
    {
      "cell_type": "code",
      "source": [
        "x = range(3,11)\n",
        "\n",
        "for n in x:\n",
        "  print(n)"
      ],
      "metadata": {
        "colab": {
          "base_uri": "https://localhost:8080/"
        },
        "id": "7vTR-FK28ROl",
        "outputId": "2d08517b-62fe-4745-bb0a-d3d6e1402015"
      },
      "execution_count": 4,
      "outputs": [
        {
          "output_type": "stream",
          "name": "stdout",
          "text": [
            "3\n",
            "4\n",
            "5\n",
            "6\n",
            "7\n",
            "8\n",
            "9\n",
            "10\n"
          ]
        }
      ]
    },
    {
      "cell_type": "markdown",
      "source": [
        "answer: (D) Calculate the sum of 3+4+5+6+…+10"
      ],
      "metadata": {
        "id": "Ij9AvGOi8Vhg"
      }
    },
    {
      "cell_type": "markdown",
      "source": [
        "### 9."
      ],
      "metadata": {
        "id": "MPD-xnVS8YOG"
      }
    },
    {
      "cell_type": "code",
      "source": [
        "a = \"Hello, World!\"\n",
        "print(a[2:5]+ a[3:8])"
      ],
      "metadata": {
        "id": "AFvituvv8bKW"
      },
      "execution_count": null,
      "outputs": []
    },
    {
      "cell_type": "markdown",
      "source": [
        "answer: (C) llolo, W"
      ],
      "metadata": {
        "id": "7Glw0XHb8b4S"
      }
    },
    {
      "cell_type": "markdown",
      "source": [
        "### 10."
      ],
      "metadata": {
        "id": "mOUmixeg8hUy"
      }
    },
    {
      "cell_type": "markdown",
      "source": [
        "Which function can returns the length of a string? a = \"Hello, Pythonian!\" print(_________)\n",
        "\n",
        "(A) len(a) (B) length(a) (C) count(a) (D) num(a)"
      ],
      "metadata": {
        "id": "GyD0AH178mKf"
      }
    },
    {
      "cell_type": "markdown",
      "source": [
        "answer: https://www.w3schools.com/python/python_strings.asp\n",
        "\n",
        "(B) length(a)"
      ],
      "metadata": {
        "id": "FrYhcSuR8pBX"
      }
    },
    {
      "cell_type": "markdown",
      "source": [
        "### 11."
      ],
      "metadata": {
        "id": "vB3Kf9i28rAN"
      }
    },
    {
      "cell_type": "markdown",
      "source": [
        "What is the output of this code in Python?\n",
        "\n",
        "  list = [ ' a ' ,  ' b ' ,  ' c ' ,  ' d ' ,  ' e ' ]\n",
        "\n",
        "  print (list [ 1 : ])\n",
        "\n",
        "(A) [ ] (B) [ 'b' ] (C) [ 'a' , 'b' ] (D) [ 'b' , 'c' , 'd' , 'e' ]"
      ],
      "metadata": {
        "id": "h2C3P5ZF8uTG"
      }
    },
    {
      "cell_type": "code",
      "source": [
        "list = [ ' a ' ,  ' b ' ,  ' c ' ,  ' d ' ,  ' e ' ]\n",
        "print (list [ 1 : ])"
      ],
      "metadata": {
        "id": "9VyNm7Fq80Nw"
      },
      "execution_count": null,
      "outputs": []
    },
    {
      "cell_type": "markdown",
      "source": [
        "answer: (D) [ 'b' , 'c' , 'd' , 'e' ]"
      ],
      "metadata": {
        "id": "4am-RrXa81Ly"
      }
    },
    {
      "cell_type": "markdown",
      "source": [
        "### 12."
      ],
      "metadata": {
        "id": "r_hMm6p2843E"
      }
    },
    {
      "cell_type": "markdown",
      "source": [
        "\n",
        "What is the output of this code in Python?\n",
        "\n",
        "    L1 = [ ]\n",
        "\n",
        "    L1.append ( [1, [2, 3], 4] )\n",
        "\n",
        "    L1.extend ( [7, 8, 9] )\n",
        "\n",
        "    print(L1[0][1][1] + L1[2] )\n",
        "\n",
        "(A) 3 (B) 8 (C) 11 (D) 38 (E) None of these"
      ],
      "metadata": {
        "id": "_xcsdf7c88W6"
      }
    },
    {
      "cell_type": "code",
      "source": [
        "L1 = []\n",
        "L1.append ( [1, [2, 3], 4] )\n",
        "L1.extend ( [7, 8, 9] )\n",
        "\n",
        "print(L1[0][1][1] + L1[2])"
      ],
      "metadata": {
        "id": "ERmpsi_s8-ZD"
      },
      "execution_count": null,
      "outputs": []
    },
    {
      "cell_type": "markdown",
      "source": [
        "answer: (C) 11"
      ],
      "metadata": {
        "id": "ipQvxZK59CIS"
      }
    },
    {
      "cell_type": "markdown",
      "source": [
        "### 13."
      ],
      "metadata": {
        "id": "bUO6act59FNe"
      }
    },
    {
      "cell_type": "markdown",
      "source": [
        "Check if \"free\" is present in the following text:\n",
        "\n",
        "txt = \"The best things in life are free!\" print(\"free\" ______ txt)\n",
        "\n",
        "Which is the correct answer?\n",
        "\n",
        "(A) on (B) with (C) at (D) in"
      ],
      "metadata": {
        "id": "0InQ4sZ59PWl"
      }
    },
    {
      "cell_type": "code",
      "source": [
        "txt = \"The best things in life are free!\"\n",
        "print(\"free\" in txt)"
      ],
      "metadata": {
        "id": "_0CPqw0Q9Rbi"
      },
      "execution_count": null,
      "outputs": []
    },
    {
      "cell_type": "markdown",
      "source": [
        "answer: (D) in"
      ],
      "metadata": {
        "id": "7dVSO1SQ9UgG"
      }
    },
    {
      "cell_type": "markdown",
      "source": [
        "### 14."
      ],
      "metadata": {
        "id": "uIg-4IRu9Xb_"
      }
    },
    {
      "cell_type": "markdown",
      "source": [
        "Which of the following conditions correctly describes the output of this code in Python?\n",
        "\n",
        "     first = [1 , 2 , 3 , 4 , 5]\n",
        "\n",
        "     second = first\n",
        "\n",
        "     second.append (6)\n",
        "\n",
        "     print (first)\n",
        "\n",
        "     print (second)\n",
        "\n",
        "(A) first=[1, 2, 3, 4, 5], second=[1, 2, 3, 4, 5, 6]\n",
        "\n",
        "(B) first=[1, 2, 3, 4, 5, 6], second=[1, 2, 3, 4, 5]\n",
        "\n",
        "(C) first=[1, 2, 3, 4, 5], second=[1, 2, 3, 4, 5]\n",
        "\n",
        "(D) first=[1, 2, 3, 4, 5, 6], second=[1, 2, 3, 4, 5, 6]\n",
        "\n",
        "(E) None of these"
      ],
      "metadata": {
        "id": "s-Va69XZ9b4M"
      }
    },
    {
      "cell_type": "code",
      "source": [
        "first = [1 , 2 , 3 , 4 , 5]\n",
        "second = first\n",
        "second.append (6)\n",
        "print (first)\n",
        "print (second)"
      ],
      "metadata": {
        "id": "g-kKD2F89fX9"
      },
      "execution_count": null,
      "outputs": []
    },
    {
      "cell_type": "markdown",
      "source": [
        "(D) first=[1, 2, 3, 4, 5, 6], second=[1, 2, 3, 4, 5, 6]"
      ],
      "metadata": {
        "id": "yyjdWcNs9iqK"
      }
    },
    {
      "cell_type": "markdown",
      "source": [
        "### 15."
      ],
      "metadata": {
        "id": "1309bLTb9kNU"
      }
    },
    {
      "cell_type": "markdown",
      "source": [
        "Python has a set of built-in methods that you can use on strings. Which method can converts string into lower case ?\n",
        "\n",
        "(A)capitalize() (B) casefold() (C) lower()\n",
        "(D)expandtabs()"
      ],
      "metadata": {
        "id": "0vOdrbYE9qno"
      }
    },
    {
      "cell_type": "markdown",
      "source": [
        "answer: (C) lower ()"
      ],
      "metadata": {
        "id": "Ks1G2kaw9rol"
      }
    },
    {
      "cell_type": "markdown",
      "source": [
        "### 16."
      ],
      "metadata": {
        "id": "87xuRFcE9uLO"
      }
    },
    {
      "cell_type": "markdown",
      "source": [
        "Python Booleans Which one of the following statements is wrong?\n",
        "\n",
        "(A) Booleans represent one of two values: True or False.\n",
        "\n",
        "(B) The bool() function allows you to evaluate any value, and give you True or False in return,\n",
        "\n",
        "(C) print(10 > 9) will output True\n",
        "\n",
        "(D) print(10 = 9) will output True"
      ],
      "metadata": {
        "id": "rNY7CsnD9yCV"
      }
    },
    {
      "cell_type": "code",
      "source": [
        "print(10 = 9)"
      ],
      "metadata": {
        "id": "MWd0OECM9zor"
      },
      "execution_count": null,
      "outputs": []
    },
    {
      "cell_type": "markdown",
      "source": [
        "answer: (D) print(10 = 9) will output True"
      ],
      "metadata": {
        "id": "y53kehVS93ZO"
      }
    },
    {
      "cell_type": "markdown",
      "source": [
        "### 17."
      ],
      "metadata": {
        "id": "v8Q7h6yp97tY"
      }
    },
    {
      "cell_type": "markdown",
      "source": [
        "\n",
        "Python Lists Which of the following statements is wrong?\n",
        "\n",
        "(A) Lists are used to store multiple items in a single variable.\n",
        "\n",
        "(B) Lists are created using square brackets\n",
        "\n",
        "(C) List items are ordered, changeable, and allow duplicate values.\n",
        "\n",
        "(D) Lists can not have items with the same value"
      ],
      "metadata": {
        "id": "JpvNTg6X-CX9"
      }
    },
    {
      "cell_type": "code",
      "source": [
        "answer: (D) Lists can not have items with the same value"
      ],
      "metadata": {
        "id": "Pjr5rfGk-Gdl"
      },
      "execution_count": null,
      "outputs": []
    },
    {
      "cell_type": "markdown",
      "source": [
        "### 18."
      ],
      "metadata": {
        "id": "XcxnVg-7-OXa"
      }
    },
    {
      "cell_type": "markdown",
      "source": [
        "Which one of the codes will output ['apple', 'orange', 'banana', 'cherry'] ?\n",
        "\n",
        "mylist = [\"apple\", \"banana\", \"cherry\"] _____________________ print(mylist)\n",
        "\n",
        "(A)mylist.append(\"orange\")\n",
        "\n",
        "(B)mylist.insert(0, \"orange\")\n",
        "\n",
        "(C)mylist.insert(1, \"orange\")\n",
        "\n",
        "(D)mylist.insert(2, \"orange\")"
      ],
      "metadata": {
        "id": "QXsexkuT-TbR"
      }
    },
    {
      "cell_type": "code",
      "source": [
        "['apple', 'orange', 'banana', 'cherry']\n",
        "mylist = [\"apple\", \"banana\", \"cherry\"]\n",
        "\n",
        "mylist.insert(1, \"orange\")   \n",
        "print(mylist)"
      ],
      "metadata": {
        "id": "bNdgqOUr-XQl"
      },
      "execution_count": null,
      "outputs": []
    },
    {
      "cell_type": "markdown",
      "source": [
        "answer: (C)mylist.insert(1, \"orange\")"
      ],
      "metadata": {
        "id": "L-Nomdjd-ZXW"
      }
    },
    {
      "cell_type": "markdown",
      "source": [
        "### 19."
      ],
      "metadata": {
        "id": "8LXJFCqZ-bJK"
      }
    },
    {
      "cell_type": "markdown",
      "source": [
        "\n",
        "Python has a set of built-in methods that you can use on dictionaries. Which statements are correct ?\n",
        "\n",
        "(A) clear() will removes all the elements from the dictionary\n",
        "\n",
        "(B) copy() will returns a copy of the dictionary\n",
        "\n",
        "(C) items() will returns a list containing a tuple for each key value pair\n",
        "\n",
        "(D) popitem() will removes the last inserted key-value pair"
      ],
      "metadata": {
        "id": "NtMH2rCT-f50"
      }
    },
    {
      "cell_type": "markdown",
      "source": [
        "(C) items() will returns a list containing a tuple for each key value pair"
      ],
      "metadata": {
        "id": "cN3I9vN4-jKl"
      }
    },
    {
      "cell_type": "markdown",
      "source": [
        "### 20."
      ],
      "metadata": {
        "id": "NQUIUcsp-kFB"
      }
    },
    {
      "cell_type": "markdown",
      "source": [
        "Python supports the usual logical conditions from mathematics: Which statements are correct ?\n",
        "\n",
        "(A)Equals: a = b\n",
        "\n",
        "(B)Not Equals: a != b\n",
        "\n",
        "(C)Less than or equal to: a <= b\n",
        "\n",
        "(D)Greater than: a > b"
      ],
      "metadata": {
        "id": "4WPU85C3-qWz"
      }
    },
    {
      "cell_type": "markdown",
      "source": [
        "answer: \n",
        "(A)Equals: a = b"
      ],
      "metadata": {
        "id": "DnZmcMHr-wXH"
      }
    },
    {
      "cell_type": "markdown",
      "source": [
        "### 21."
      ],
      "metadata": {
        "id": "_8qXOSNj-1C7"
      }
    },
    {
      "cell_type": "markdown",
      "source": [
        "What is the output of this code in Python?"
      ],
      "metadata": {
        "id": "i-8pMygd-5Wt"
      }
    },
    {
      "cell_type": "code",
      "source": [
        "i = 1\n",
        "while i < 6:\n",
        "  print(i)\n",
        "  if (i == 3):\n",
        "    break\n",
        "  i += 1"
      ],
      "metadata": {
        "id": "4Nc6rgpH-6WJ"
      },
      "execution_count": null,
      "outputs": []
    },
    {
      "cell_type": "markdown",
      "source": [
        "(A)\n",
        "\n",
        "1\n",
        "\n",
        "2\n",
        "\n",
        "3"
      ],
      "metadata": {
        "id": "n8XCjpc_-8ZW"
      }
    },
    {
      "cell_type": "markdown",
      "source": [
        "### 22."
      ],
      "metadata": {
        "id": "9r86uzw6-_B5"
      }
    },
    {
      "cell_type": "markdown",
      "source": [
        "What is the output of this code in Python?"
      ],
      "metadata": {
        "id": "FXj7aaJF_EWW"
      }
    },
    {
      "cell_type": "code",
      "source": [
        "i = 0\n",
        "while i < 6:\n",
        "  i += 1\n",
        "  if i == 3:\n",
        "    continue\n",
        "  print(i)"
      ],
      "metadata": {
        "id": "CH0P6j2s_FPE"
      },
      "execution_count": null,
      "outputs": []
    },
    {
      "cell_type": "markdown",
      "source": [
        "(B)\n",
        "\n",
        "1\n",
        "\n",
        "2\n",
        "\n",
        "4\n",
        "\n",
        "5\n",
        "\n",
        "6"
      ],
      "metadata": {
        "id": "NKznVJc6_H20"
      }
    },
    {
      "cell_type": "markdown",
      "source": [
        "### 23."
      ],
      "metadata": {
        "id": "SX3ius7A_NxY"
      }
    },
    {
      "cell_type": "markdown",
      "source": [
        "If the function int volume (int x = 1, int y = 1, int z = 1); is called by the expression volume (7,8), how many default arguments are used?\n",
        "\n",
        "(A) None (B) One (C) Two (D) Three (E) It depends on the runtime environment."
      ],
      "metadata": {
        "id": "C7tjTyh4_TMC"
      }
    },
    {
      "cell_type": "markdown",
      "source": [
        "answer: (C) Two"
      ],
      "metadata": {
        "id": "tmbfrqj2_SqA"
      }
    },
    {
      "cell_type": "markdown",
      "source": [
        "### 24."
      ],
      "metadata": {
        "id": "V9j1EsJC_X7e"
      }
    },
    {
      "cell_type": "markdown",
      "source": [
        "What is the output of this code in python?\n",
        "\n",
        "    r = lambda q: q * 2\n",
        "\n",
        "    s = lambda q: q * 3\n",
        "\n",
        "    x = 2\n",
        "\n",
        "    x = r (x)\n",
        "\n",
        "    x = s (x)\n",
        "\n",
        "    x = r (x)\n",
        "\n",
        "    print (x\n",
        "\n",
        "    A) 2  (B) 4  (C) 6  (D) 12  (E) 24"
      ],
      "metadata": {
        "id": "F2isfTyO_fim"
      }
    },
    {
      "cell_type": "code",
      "source": [
        "r = lambda q: q * 2\n",
        "s = lambda q: q * 3\n",
        "x = 2\n",
        "x = r (x)\n",
        "x = s (x)\n",
        "x = r (x)\n",
        "print (x)"
      ],
      "metadata": {
        "id": "A9ivPPEe_j-E"
      },
      "execution_count": null,
      "outputs": []
    },
    {
      "cell_type": "markdown",
      "source": [
        "answer: (E) 24"
      ],
      "metadata": {
        "id": "CGHwSufU_oKi"
      }
    },
    {
      "cell_type": "markdown",
      "source": [
        "### 25."
      ],
      "metadata": {
        "id": "UgKgcwSw_pw_"
      }
    },
    {
      "cell_type": "markdown",
      "source": [
        "A recursive function is defined as below: def tri_recursion(k):\n",
        "\n",
        "if(k > 0):\n",
        "\n",
        "result = k + tri_recursion(k - 1)\n",
        "\n",
        "print(result)\n",
        "\n",
        "else:\n",
        "\n",
        "result = 0\n",
        "\n",
        "return result\n",
        "\n",
        "What Is The Last Line Of The Output When tri_recursion(6) is executed?\n",
        "\n",
        "(A) 6 (B) 10 (C) 15 (D) 21 (E) 28"
      ],
      "metadata": {
        "id": "hepxIhwA_uBy"
      }
    },
    {
      "cell_type": "code",
      "source": [
        "def tri_recursion(k):\n",
        "  if(k > 0):\n",
        "    result = k + tri_recursion(k - 1)\n",
        "    print(result)\n",
        "  else:\n",
        "    result = 0\n",
        "  return result"
      ],
      "metadata": {
        "id": "FAsH2gWj_zNs"
      },
      "execution_count": null,
      "outputs": []
    },
    {
      "cell_type": "markdown",
      "source": [
        "answer: (D) 21"
      ],
      "metadata": {
        "id": "jH0741N8_08y"
      }
    }
  ]
}